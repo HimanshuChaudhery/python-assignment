{
 "cells": [
  {
   "cell_type": "markdown",
   "id": "69048639-85f7-4f92-b84d-7abcf0bc990e",
   "metadata": {},
   "source": [
    "#### 1) Write a function greet that takes tow arguments: name (a string) and greeting (a string with a default value of \"Hello\"). The function should return a greeting message."
   ]
  },
  {
   "cell_type": "code",
   "execution_count": 1,
   "id": "e1e4528d-6556-4230-97e8-abfb9d297635",
   "metadata": {},
   "outputs": [],
   "source": [
    "def greet (name, greeting):\n",
    "    return f\"hello {name}, {greeting}\""
   ]
  },
  {
   "cell_type": "code",
   "execution_count": 2,
   "id": "e73e02fb-4eeb-40ce-bbcc-0c3765b845f9",
   "metadata": {},
   "outputs": [
    {
     "data": {
      "text/plain": [
       "'hello Peter, Good Morning'"
      ]
     },
     "execution_count": 2,
     "metadata": {},
     "output_type": "execute_result"
    }
   ],
   "source": [
    "greet(\"Peter\",\"Good Morning\")"
   ]
  },
  {
   "cell_type": "markdown",
   "id": "e2c40292-6c98-4513-ba2b-43774169badb",
   "metadata": {},
   "source": [
    "#### 2) Create a function create_profile that takes arguments for name, age and city as named arguments. The function should return a string like \"Name: Alice, Age: 25, City: New York\". Ensure that the age argument has a default value of 18."
   ]
  },
  {
   "cell_type": "code",
   "execution_count": 3,
   "id": "17b77272-7ded-4a3e-ae4b-2037c2a623da",
   "metadata": {},
   "outputs": [],
   "source": [
    "def create_profile(name, city, age=18):\n",
    "    return f\"Name: {name}, Age: {age}, City: {city}\""
   ]
  },
  {
   "cell_type": "code",
   "execution_count": 4,
   "id": "d2ff210b-5726-4f41-a5b0-954b2db97728",
   "metadata": {},
   "outputs": [
    {
     "data": {
      "text/plain": [
       "'Name: Alice, Age: 18, City: New York'"
      ]
     },
     "execution_count": 4,
     "metadata": {},
     "output_type": "execute_result"
    }
   ],
   "source": [
    "create_profile(\"Alice\",\"New York\")"
   ]
  },
  {
   "cell_type": "markdown",
   "id": "75807580-a64b-42b3-b65e-6f8e8ee60aed",
   "metadata": {},
   "source": [
    "#### 3) Write a function sum_numbers that takes any number of positional arguments(args) and keyword arguments (*kwargs). It should:\n",
    "- Return the sum of all *args if they are numbers.\n",
    "- Return a dictionary of all keywords arguments."
   ]
  },
  {
   "cell_type": "code",
   "execution_count": 10,
   "id": "c8f611b4-3bf4-4f5b-a6b5-9afd4452acce",
   "metadata": {},
   "outputs": [],
   "source": [
    "def sum_numbers(*args,**kwargs):\n",
    "    # taking the sum of only positional arguments\n",
    "    sums=sum(arg for arg in args if isinstance(arg, (int, float)))\n",
    "    return sums, kwargs "
   ]
  },
  {
   "cell_type": "code",
   "execution_count": 11,
   "id": "7db96894-587e-4ae3-831b-4c4bd4f184f7",
   "metadata": {},
   "outputs": [
    {
     "data": {
      "text/plain": [
       "(27, {'x': 5, 'y': 6})"
      ]
     },
     "execution_count": 11,
     "metadata": {},
     "output_type": "execute_result"
    }
   ],
   "source": [
    "sum_numbers(6,5,8,8,x=5,y=6)"
   ]
  },
  {
   "cell_type": "markdown",
   "id": "3b897851-90c3-4523-95a6-132362fec49c",
   "metadata": {},
   "source": [
    "#### 4) Write a function that uses map and a lambda to return a list where each element is squared."
   ]
  },
  {
   "cell_type": "code",
   "execution_count": 13,
   "id": "3c341f12-8a50-4892-865c-599611fce292",
   "metadata": {},
   "outputs": [
    {
     "name": "stdout",
     "output_type": "stream",
     "text": [
      "[9, 16, 49, 64]\n"
     ]
    }
   ],
   "source": [
    "def square_list(numbers):\n",
    "    return list (map(lambda x:x**2, numbers))\n",
    "print(square_list([3,4,7,8]))"
   ]
  },
  {
   "cell_type": "markdown",
   "id": "4ac896cc-b530-42f8-955f-8561e853e103",
   "metadata": {},
   "source": [
    "#### 5) Write a function that filters out all odd numbers from a list using filter and a lambda function."
   ]
  },
  {
   "cell_type": "code",
   "execution_count": 14,
   "id": "f920e360-2528-4abe-94e8-295f07085cf1",
   "metadata": {},
   "outputs": [],
   "source": [
    "def odd_out(numbers):\n",
    "    odd = list(filter(lambda x: x%2 !=0, numbers))\n",
    "    print(odd)"
   ]
  },
  {
   "cell_type": "code",
   "execution_count": 16,
   "id": "72651cd4-f043-42b4-a8de-8e642348781d",
   "metadata": {},
   "outputs": [
    {
     "name": "stdout",
     "output_type": "stream",
     "text": [
      "[1, 5, 9]\n"
     ]
    }
   ],
   "source": [
    "odd_out([1,2,5,66,9])"
   ]
  },
  {
   "cell_type": "markdown",
   "id": "45556ce2-ccd4-4e19-9aa7-adf4582ec94e",
   "metadata": {},
   "source": [
    "#### 6) Create a list comprehension that takes a list of numbers and returns a list of their squares."
   ]
  },
  {
   "cell_type": "code",
   "execution_count": 17,
   "id": "f32e162d-5b1e-4a87-ade6-109aeccf72f8",
   "metadata": {},
   "outputs": [
    {
     "name": "stdout",
     "output_type": "stream",
     "text": [
      "[16, 25, 36, 49, 64]\n"
     ]
    }
   ],
   "source": [
    "numbers = [4,5,6,7,8]\n",
    "\n",
    "squares = [x**2 for x in numbers]\n",
    "\n",
    "print(squares)"
   ]
  },
  {
   "cell_type": "markdown",
   "id": "85a2327f-f324-424f-a35f-acede054f485",
   "metadata": {},
   "source": [
    "#### 7) Use a list comprehension to create a list of even numbers from 1 to 20."
   ]
  },
  {
   "cell_type": "code",
   "execution_count": 18,
   "id": "d9ae8633-0771-4ea4-bf2b-3bda6a545b6d",
   "metadata": {},
   "outputs": [],
   "source": [
    "def even_out():\n",
    "    even = [x for x in range(1,21) if x % 2 ==0]\n",
    "    return even"
   ]
  },
  {
   "cell_type": "code",
   "execution_count": 19,
   "id": "ee030ba1-a04b-4238-8600-c19b669e561d",
   "metadata": {},
   "outputs": [
    {
     "data": {
      "text/plain": [
       "[2, 4, 6, 8, 10, 12, 14, 16, 18, 20]"
      ]
     },
     "execution_count": 19,
     "metadata": {},
     "output_type": "execute_result"
    }
   ],
   "source": [
    "even_out()"
   ]
  },
  {
   "cell_type": "markdown",
   "id": "ee3d5c53-bf0f-4bf2-8c70-fefafffacf54",
   "metadata": {},
   "source": [
    "#### 8) Write a function file_operations that creates a directory named \"test_folder\" using os.makedirs(). Then, pause the execution for 3 seconds using time.sleep(), and finally, delete the directory using os.rmdir()."
   ]
  },
  {
   "cell_type": "code",
   "execution_count": 20,
   "id": "f76f0452-b9bd-48ae-aa11-13c9158ae4a3",
   "metadata": {},
   "outputs": [],
   "source": [
    "import os\n",
    "import time"
   ]
  },
  {
   "cell_type": "code",
   "execution_count": 25,
   "id": "fec93135-c698-4ea5-9c8e-071b88ccc3e9",
   "metadata": {},
   "outputs": [],
   "source": [
    "def file_operations():\n",
    "    os.makedirs(\"test_folder\")\n",
    "    time.sleep(3)\n",
    "    os.rmdir(\"test_folder\")\n",
    "file_operations()"
   ]
  },
  {
   "cell_type": "markdown",
   "id": "c33b33cc-b701-4b4b-8e81-94d48524a49c",
   "metadata": {},
   "source": [
    "#### 9) Write a Python script that imports only sleep from the time module and renames it to pause. Use it to pause execution for 2 seconds and print \"Paused excution...\""
   ]
  },
  {
   "cell_type": "code",
   "execution_count": 27,
   "id": "6b2c0c2a-543e-43cc-b9e3-718a9e0887fb",
   "metadata": {},
   "outputs": [
    {
     "name": "stdout",
     "output_type": "stream",
     "text": [
      "Paused execution...\n"
     ]
    }
   ],
   "source": [
    "from time import sleep as pause\n",
    "\n",
    "pause(2)\n",
    "print(\"Paused execution...\")"
   ]
  },
  {
   "cell_type": "markdown",
   "id": "2c043039-b478-48d5-a75f-699060c02628",
   "metadata": {},
   "source": [
    "#### 10) Write a recursive function flatten_list that can flatted a nested list of any depth using *args and **kwargs."
   ]
  },
  {
   "cell_type": "code",
   "execution_count": 29,
   "id": "4a2ad665-7638-4a63-b628-268b7006720d",
   "metadata": {},
   "outputs": [
    {
     "name": "stdout",
     "output_type": "stream",
     "text": [
      "[1, 2, 3, 4, 5, 6, 7, 8, 9, 10]\n"
     ]
    }
   ],
   "source": [
    "def flatten_list(*args, **kargs):\n",
    "    flat_list = []\n",
    "\n",
    "    # Recursive function to flatten each element\n",
    "    def flatten(item):\n",
    "        if isinstance(item, list):\n",
    "            for sub_item in item:\n",
    "                flatten(sub_item)\n",
    "        else:\n",
    "            flat_list.append(item)\n",
    "\n",
    "    # Flatten all the postional arguments\n",
    "    for arg in args:\n",
    "        flatten(arg)\n",
    "\n",
    "    return flat_list\n",
    "\n",
    "result = flatten_list([1, [2, 3, [4, 5], 6], 7, [8, [9, 10]]])\n",
    "\n",
    "print(result)"
   ]
  },
  {
   "cell_type": "code",
   "execution_count": null,
   "id": "d212f9fb-c77f-48d5-8766-7b0d4c7abece",
   "metadata": {},
   "outputs": [],
   "source": []
  }
 ],
 "metadata": {
  "kernelspec": {
   "display_name": "Python 3 (ipykernel)",
   "language": "python",
   "name": "python3"
  },
  "language_info": {
   "codemirror_mode": {
    "name": "ipython",
    "version": 3
   },
   "file_extension": ".py",
   "mimetype": "text/x-python",
   "name": "python",
   "nbconvert_exporter": "python",
   "pygments_lexer": "ipython3",
   "version": "3.12.1"
  }
 },
 "nbformat": 4,
 "nbformat_minor": 5
}
